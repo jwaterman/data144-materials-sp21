{
 "cells": [
  {
   "cell_type": "code",
   "execution_count": null,
   "metadata": {},
   "outputs": [],
   "source": [
    "from datascience import *\n",
    "%matplotlib inline\n",
    "import matplotlib.pyplot as plots\n",
    "plots.style.use('fivethirtyeight')\n",
    "import numpy as np"
   ]
  },
  {
   "cell_type": "markdown",
   "metadata": {},
   "source": [
    "# Sample Median"
   ]
  },
  {
   "cell_type": "markdown",
   "metadata": {},
   "source": [
    "**Please run all cells before this cell, including the import cell at the top of the notebook.**"
   ]
  },
  {
   "cell_type": "code",
   "execution_count": null,
   "metadata": {},
   "outputs": [],
   "source": [
    "sf = Table.read_table('san_francisco_2015.csv')\n",
    "sf = sf.drop('Organization Group Code').drop('Organization Group').drop('Department Code').drop('Department')\n",
    "sf = sf.drop('Year Type').drop('Year').drop('Job Family Code').drop('Job Family')\n",
    "sf"
   ]
  },
  {
   "cell_type": "code",
   "execution_count": null,
   "metadata": {},
   "outputs": [],
   "source": [
    "# Let's see who is making the most money\n",
    "sf.sort('Total Compensation', descending=True).show(5)"
   ]
  },
  {
   "cell_type": "code",
   "execution_count": null,
   "metadata": {},
   "outputs": [],
   "source": [
    "# Let's see who is making the least money\n",
    "sf.sort('Total Compensation', descending=False).show(5)"
   ]
  },
  {
   "cell_type": "code",
   "execution_count": null,
   "metadata": {},
   "outputs": [],
   "source": [
    "# Let's remove any salaries less than the minimum\n",
    "#\n",
    "#     min_wage x 20 hrs/week x 52 weeks/yr\n",
    "#\n",
    "\n",
    "min_salary = 10 * 20 * 52"
   ]
  },
  {
   "cell_type": "code",
   "execution_count": null,
   "metadata": {},
   "outputs": [],
   "source": [
    "sf = sf.where('Total Compensation', are.above(min_salary))"
   ]
  },
  {
   "cell_type": "code",
   "execution_count": null,
   "metadata": {},
   "outputs": [],
   "source": [
    "# So let's say we want to know the median income of these people\n",
    "#\n",
    "# In this case, we are lucky to have the census data of everyone\n",
    "#\n",
    "# so we can calculate the exact value.\n",
    "\n",
    "pop_median = percentile(50, sf.column('Total Compensation'))\n",
    "pop_median"
   ]
  },
  {
   "cell_type": "code",
   "execution_count": null,
   "metadata": {},
   "outputs": [],
   "source": [
    "our_sample = sf.sample(300, with_replacement=False)\n",
    "our_sample.show(5)"
   ]
  },
  {
   "cell_type": "code",
   "execution_count": null,
   "metadata": {},
   "outputs": [],
   "source": [
    "percentile(50, our_sample.column('Total Compensation'))"
   ]
  },
  {
   "cell_type": "code",
   "execution_count": null,
   "metadata": {},
   "outputs": [],
   "source": [
    "# Now let's look at the population data\n",
    "\n",
    "sf_bins = np.arange(0, 700000, 25000)\n",
    "sf.hist('Total Compensation', bins=sf_bins)"
   ]
  },
  {
   "cell_type": "code",
   "execution_count": null,
   "metadata": {},
   "outputs": [],
   "source": [
    "# Now let's look at our sample data\n",
    "\n",
    "our_sample.hist('Total Compensation', bins=sf_bins)"
   ]
  },
  {
   "cell_type": "markdown",
   "metadata": {},
   "source": [
    "# Variability of the Estimate"
   ]
  },
  {
   "cell_type": "markdown",
   "metadata": {},
   "source": [
    "**Please run all cells before this cell, including the import cell at the top of the notebook.**"
   ]
  },
  {
   "cell_type": "code",
   "execution_count": null,
   "metadata": {},
   "outputs": [],
   "source": [
    "def generate_sample_median(samp_size):\n",
    "    our_sample = sf.sample(samp_size, with_replacement=False)\n",
    "    return percentile(50, our_sample.column('Total Compensation'))"
   ]
  },
  {
   "cell_type": "code",
   "execution_count": null,
   "metadata": {},
   "outputs": [],
   "source": [
    "# Our smaple median was pretty close.\n",
    "# Now let's do it again a few more times.\n",
    "sample_median = generate_sample_median(300)\n",
    "sample_median"
   ]
  },
  {
   "cell_type": "code",
   "execution_count": null,
   "metadata": {},
   "outputs": [],
   "source": [
    "error = sample_median - pop_median\n",
    "error\n",
    "\n",
    "# error = estimate - parameter\n",
    "# so... estimate = parameter + error"
   ]
  },
  {
   "cell_type": "markdown",
   "metadata": {},
   "source": [
    "# Quantifying Uncertainty"
   ]
  },
  {
   "cell_type": "markdown",
   "metadata": {},
   "source": [
    "**Please run all cells before this cell, including the import cell at the top of the notebook.**"
   ]
  },
  {
   "cell_type": "markdown",
   "metadata": {},
   "source": [
    "We have some error in our estimate...\n",
    "\n",
    "But how large/unsual is our error?"
   ]
  },
  {
   "cell_type": "code",
   "execution_count": null,
   "metadata": {},
   "outputs": [],
   "source": [
    "# Since we have the entire population data today,\n",
    "# we can just re sample from it multiple times to see how our\n",
    "# sample median varies!\n",
    "\n",
    "sample_medians = make_array()\n",
    "\n",
    "for i in np.arange(1000):\n",
    "    new_median = generate_sample_median(300)\n",
    "    sample_medians = np.append(sample_medians, new_median)"
   ]
  },
  {
   "cell_type": "code",
   "execution_count": null,
   "metadata": {},
   "outputs": [],
   "source": [
    "Table().with_column('Sample Medians', sample_medians).hist()\n",
    "plots.scatter(pop_median, 0, color = 'red', s=40);"
   ]
  }
 ],
 "metadata": {
  "anaconda-cloud": {},
  "kernelspec": {
   "display_name": "Python 3",
   "language": "python",
   "name": "python3"
  },
  "language_info": {
   "codemirror_mode": {
    "name": "ipython",
    "version": 3
   },
   "file_extension": ".py",
   "mimetype": "text/x-python",
   "name": "python",
   "nbconvert_exporter": "python",
   "pygments_lexer": "ipython3",
   "version": "3.7.3"
  }
 },
 "nbformat": 4,
 "nbformat_minor": 1
}
