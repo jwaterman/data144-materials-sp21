{
 "cells": [
  {
   "cell_type": "code",
   "execution_count": null,
   "metadata": {},
   "outputs": [],
   "source": [
    "from datascience import *\n",
    "import numpy as np\n",
    "import matplotlib\n",
    "%matplotlib inline\n",
    "import matplotlib.pyplot as plots\n",
    "plots.style.use('fivethirtyeight')"
   ]
  },
  {
   "cell_type": "code",
   "execution_count": null,
   "metadata": {},
   "outputs": [],
   "source": [
    "def standard_units(arr):\n",
    "    return (arr - np.average(arr))/np.std(arr)\n",
    "\n",
    "def correlation(t, x, y):\n",
    "    x_standard = standard_units(t.column(x))\n",
    "    y_standard = standard_units(t.column(y))\n",
    "    return np.average(x_standard * y_standard)\n",
    "\n",
    "def slope(t, x, y):\n",
    "    r = correlation(t, x, y)\n",
    "    y_sd = np.std(t.column(y))\n",
    "    x_sd = np.std(t.column(x))\n",
    "    return r * y_sd / x_sd\n",
    "\n",
    "def intercept(t, x, y):\n",
    "    x_mean = np.mean(t.column(x))\n",
    "    y_mean = np.mean(t.column(y))\n",
    "    return y_mean - slope(t, x, y)*x_mean\n",
    "\n",
    "def fitted_values(t, x, y):\n",
    "    \"\"\"Return an array of the regression estimates at all the x values\"\"\"\n",
    "    a = slope(t, x, y)\n",
    "    b = intercept(t, x, y)\n",
    "    return a*t.column(x) + b\n",
    "\n",
    "def residuals(t, x, y):\n",
    "    predictions = fitted_values(t, x, y)\n",
    "    return t.column(y) - predictions\n",
    "\n",
    "def prediction_at(t, x, y, x_value):\n",
    "    '''\n",
    "    t - table\n",
    "    x - label of x column\n",
    "    y - label of y column\n",
    "    x_value - the x value for which we want to predict y\n",
    "    '''\n",
    "    return slope(t, x, y) * x_value + intercept(t, x, y)"
   ]
  },
  {
   "cell_type": "markdown",
   "metadata": {},
   "source": [
    "# Inference for the Slope"
   ]
  },
  {
   "cell_type": "markdown",
   "metadata": {},
   "source": [
    "**Please run all cells before this cell, including the import cell at the top of the notebook.**"
   ]
  },
  {
   "cell_type": "code",
   "execution_count": null,
   "metadata": {},
   "outputs": [],
   "source": [
    "births = Table.read_table('baby.csv')\n",
    "births.scatter('Gestational Days', 'Birth Weight', fit_line=True)"
   ]
  },
  {
   "cell_type": "code",
   "execution_count": null,
   "metadata": {},
   "outputs": [],
   "source": [
    "slope(births, 'Gestational Days', 'Birth Weight')"
   ]
  },
  {
   "cell_type": "code",
   "execution_count": null,
   "metadata": {},
   "outputs": [],
   "source": [
    "def bootstrap_slope(t, x, y, repetitions=5000):\n",
    "    \n",
    "    # Bootstrap the scatter, find the slope, collect\n",
    "    slopes = make_array()\n",
    "    for i in np.arange(repetitions):\n",
    "        bootstrap_sample = t.sample()\n",
    "        bootstrap_slope = slope(bootstrap_sample, x, y)\n",
    "        slopes = np.append(slopes, bootstrap_slope)\n",
    "    \n",
    "    # Find the endpoints of the 95% confidence interval for the true slope\n",
    "    left = percentile(2.5, slopes)\n",
    "    right = percentile(97.5, slopes)\n",
    "    \n",
    "    # Slope of the regression line from the original sample\n",
    "    observed_slope = slope(t, x, y)\n",
    "    \n",
    "    # Display results\n",
    "    Table().with_column('Bootstrap Slopes', slopes).hist(bins=20)\n",
    "    plots.plot(make_array(left, right), make_array(0, 0), color='yellow', lw=8);\n",
    "    print('Slope of regression line:', observed_slope)\n",
    "    print('Approximate 95%-confidence interval for the slope of the true line:')\n",
    "    print(left, 'to', right)"
   ]
  },
  {
   "cell_type": "code",
   "execution_count": null,
   "metadata": {},
   "outputs": [],
   "source": [
    "bootstrap_slope(births, 'Gestational Days', 'Birth Weight', 2500)"
   ]
  },
  {
   "cell_type": "markdown",
   "metadata": {},
   "source": [
    "## Rain on the regression parade"
   ]
  },
  {
   "cell_type": "markdown",
   "metadata": {},
   "source": [
    "**Please run all cells before this cell, including the import cell at the top of the notebook.**"
   ]
  },
  {
   "cell_type": "code",
   "execution_count": null,
   "metadata": {},
   "outputs": [],
   "source": [
    "def draw_and_compare(true_slope, true_int, sample_size):\n",
    "    x = np.random.normal(50, 5, sample_size)\n",
    "    xlims = np.array([np.min(x), np.max(x)])\n",
    "    errors = np.random.normal(0, 6, sample_size)\n",
    "    y = (true_slope * x + true_int) + errors\n",
    "    sample = Table().with_columns('x', x, 'y', y)\n",
    "\n",
    "    sample.scatter('x', 'y')\n",
    "    plots.plot(xlims, true_slope*xlims + true_int, lw=2, color='green')\n",
    "    plots.title('True Line, and Points Created')\n",
    "\n",
    "    sample.scatter('x', 'y')\n",
    "    plots.title('What We Get to See')\n",
    "\n",
    "    sample.scatter('x', 'y', fit_line=True)\n",
    "    plots.title('Regression Line: Estimate of True Line')\n",
    "\n",
    "    sample.scatter('x', 'y', fit_line=True)\n",
    "    plots.plot(xlims, true_slope*xlims + true_int, lw=2, color='green')\n",
    "    plots.title(\"Regression Line and True Line\")"
   ]
  },
  {
   "cell_type": "code",
   "execution_count": null,
   "metadata": {},
   "outputs": [],
   "source": [
    "draw_and_compare(0, 10, 25)"
   ]
  },
  {
   "cell_type": "markdown",
   "metadata": {},
   "source": [
    "## Test whether there really is a slope"
   ]
  },
  {
   "cell_type": "markdown",
   "metadata": {},
   "source": [
    "**Please run all cells before this cell, including the import cell at the top of the notebook.**"
   ]
  },
  {
   "cell_type": "markdown",
   "metadata": {},
   "source": [
    "**Null Hypothesis.** Slope of true line = 0.\n",
    "\n",
    "**Alternative Hypothesis.** Slope of true line is not 0."
   ]
  },
  {
   "cell_type": "code",
   "execution_count": null,
   "metadata": {},
   "outputs": [],
   "source": [
    "slope(births, 'Maternal Age', 'Birth Weight')"
   ]
  },
  {
   "cell_type": "code",
   "execution_count": null,
   "metadata": {},
   "outputs": [],
   "source": [
    "births.scatter('Maternal Age', 'Birth Weight', fit_line=True)"
   ]
  },
  {
   "cell_type": "code",
   "execution_count": null,
   "metadata": {},
   "outputs": [],
   "source": [
    "bootstrap_slope(births, 'Maternal Age', 'Birth Weight', 2500)"
   ]
  },
  {
   "cell_type": "code",
   "execution_count": null,
   "metadata": {},
   "outputs": [],
   "source": []
  }
 ],
 "metadata": {
  "anaconda-cloud": {},
  "kernelspec": {
   "display_name": "Python 3",
   "language": "python",
   "name": "python3"
  },
  "language_info": {
   "codemirror_mode": {
    "name": "ipython",
    "version": 3
   },
   "file_extension": ".py",
   "mimetype": "text/x-python",
   "name": "python",
   "nbconvert_exporter": "python",
   "pygments_lexer": "ipython3",
   "version": "3.7.3"
  }
 },
 "nbformat": 4,
 "nbformat_minor": 1
}
