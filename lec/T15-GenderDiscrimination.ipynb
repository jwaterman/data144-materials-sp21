{
 "cells": [
  {
   "cell_type": "code",
   "execution_count": null,
   "metadata": {},
   "outputs": [],
   "source": [
    "from datascience import *\n",
    "import numpy as np\n",
    "\n",
    "%matplotlib inline\n",
    "import matplotlib.pyplot as plots\n",
    "plots.style.use('fivethirtyeight')\n",
    "import warnings\n",
    "warnings.filterwarnings('ignore')"
   ]
  },
  {
   "cell_type": "markdown",
   "metadata": {},
   "source": [
    "## Gender Discrimination ##"
   ]
  },
  {
   "cell_type": "markdown",
   "metadata": {},
   "source": [
    "**Please run all cells before this cell, including the import cell at the top of the notebook.**"
   ]
  },
  {
   "cell_type": "code",
   "execution_count": null,
   "metadata": {},
   "outputs": [],
   "source": [
    "GenderPromotion = Table.read_table(\"GenderPromotion.csv\")\n",
    "GenderPromotion"
   ]
  },
  {
   "cell_type": "code",
   "execution_count": null,
   "metadata": {},
   "outputs": [],
   "source": [
    "GenderPromotion.group('Promoted')"
   ]
  },
  {
   "cell_type": "code",
   "execution_count": null,
   "metadata": {},
   "outputs": [],
   "source": [
    "GenderPromotion.group('Gender')"
   ]
  },
  {
   "cell_type": "code",
   "execution_count": null,
   "metadata": {},
   "outputs": [],
   "source": [
    "pivot_table = GenderPromotion.pivot('Promoted', 'Gender')\n",
    "summary = pivot_table.with_column('Percent', pivot_table.column('Yes')/24)\n",
    "summary"
   ]
  },
  {
   "cell_type": "code",
   "execution_count": null,
   "metadata": {},
   "outputs": [],
   "source": [
    "observed_difference = summary.column('Percent').item(1) - summary.column('Percent').item(0)\n",
    "observed_difference"
   ]
  },
  {
   "cell_type": "code",
   "execution_count": null,
   "metadata": {},
   "outputs": [],
   "source": [
    "shuffled_labels = GenderPromotion.sample(with_replacement = False).column('Promoted')\n",
    "shuffled_labels"
   ]
  },
  {
   "cell_type": "code",
   "execution_count": null,
   "metadata": {},
   "outputs": [],
   "source": [
    "shuffled_table = GenderPromotion.select('Gender').with_column('Promoted', shuffled_labels)\n",
    "shuffled_table"
   ]
  },
  {
   "cell_type": "code",
   "execution_count": null,
   "metadata": {},
   "outputs": [],
   "source": [
    "shuffled_pivot_table = shuffled_table.pivot('Promoted', 'Gender')\n",
    "shuffled_summary = shuffled_pivot_table.with_column('Percent', shuffled_pivot_table.column('Yes')/24)\n",
    "shuffled_summary"
   ]
  },
  {
   "cell_type": "code",
   "execution_count": null,
   "metadata": {},
   "outputs": [],
   "source": [
    "shuffled_summary.column('Percent').item(1) - shuffled_summary.column('Percent').item(0)"
   ]
  },
  {
   "cell_type": "code",
   "execution_count": null,
   "metadata": {},
   "outputs": [],
   "source": [
    "# Simulate one value of the test statistic \n",
    "# under the hypothesis that promotion is randomly determined\n",
    "\n",
    "def random_sample_percent_difference():\n",
    "    shuffled_labels = GenderPromotion.sample(with_replacement = False).column('Promoted')\n",
    "    shuffled_table = GenderPromotion.select('Gender').with_column('Promoted', shuffled_labels)\n",
    "    shuffled_pivot_table = shuffled_table.pivot('Promoted', 'Gender')\n",
    "    shuffled_summary = shuffled_pivot_table.with_column('Percent', shuffled_pivot_table.column('Yes')/24)\n",
    "    return shuffled_summary.column('Percent').item(1) - shuffled_summary.column('Percent').item(0)"
   ]
  },
  {
   "cell_type": "code",
   "execution_count": null,
   "metadata": {},
   "outputs": [],
   "source": [
    "# Simulate 10,000 copies of the test statistic\n",
    "# this code might take a few seconds to run\n",
    "\n",
    "sample_difference = make_array()\n",
    "\n",
    "for i in np.arange(10000):\n",
    "    new_difference = random_sample_percent_difference()\n",
    "    sample_difference = np.append(sample_difference, new_difference)   "
   ]
  },
  {
   "cell_type": "code",
   "execution_count": null,
   "metadata": {},
   "outputs": [],
   "source": [
    "# Compare the simulated distribution of the statistic\n",
    "# and the actual observed statistic\n",
    "\n",
    "differences_tbl = Table().with_column('Random Sample Difference', sample_difference)\n",
    "differences_tbl.hist(bins = 10)\n",
    "plots.scatter(observed_difference, 0, color = 'red', s=40);"
   ]
  },
  {
   "cell_type": "code",
   "execution_count": null,
   "metadata": {},
   "outputs": [],
   "source": [
    "sum(sample_difference >= observed_difference) / 10000"
   ]
  },
  {
   "cell_type": "code",
   "execution_count": null,
   "metadata": {},
   "outputs": [],
   "source": [
    "# 5% of 10,000 = 500\n",
    "\n",
    "five_percent_point = differences_tbl.sort(0).column(0).item(9500)\n",
    "five_percent_point"
   ]
  },
  {
   "cell_type": "code",
   "execution_count": null,
   "metadata": {},
   "outputs": [],
   "source": [
    "differences_tbl.hist(bins = 10)\n",
    "plots.plot([five_percent_point, five_percent_point], [0, 3], color='gold', lw=2)\n",
    "plots.title('Area to the left of the gold line: 5%');"
   ]
  },
  {
   "cell_type": "markdown",
   "metadata": {},
   "source": [
    "### Conventions about inconsistency ###"
   ]
  },
  {
   "cell_type": "markdown",
   "metadata": {},
   "source": [
    "**Please run all cells before this cell, including the import cell at the top of the notebook.**"
   ]
  },
  {
   "cell_type": "code",
   "execution_count": null,
   "metadata": {},
   "outputs": [],
   "source": [
    "# 1% of 10,000 = 100\n",
    "\n",
    "one_percent_point = differences_tbl.sort(0).column(0).item(9900)\n",
    "one_percent_point"
   ]
  },
  {
   "cell_type": "code",
   "execution_count": null,
   "metadata": {},
   "outputs": [],
   "source": [
    "differences_tbl.hist(bins = 10)\n",
    "plots.plot([one_percent_point, one_percent_point], [0, 5], color='gold', lw=2)\n",
    "plots.title('Area to the left of the gold line: 1%');"
   ]
  },
  {
   "cell_type": "code",
   "execution_count": null,
   "metadata": {},
   "outputs": [],
   "source": []
  }
 ],
 "metadata": {
  "anaconda-cloud": {},
  "kernelspec": {
   "display_name": "Python 3",
   "language": "python",
   "name": "python3"
  },
  "language_info": {
   "codemirror_mode": {
    "name": "ipython",
    "version": 3
   },
   "file_extension": ".py",
   "mimetype": "text/x-python",
   "name": "python",
   "nbconvert_exporter": "python",
   "pygments_lexer": "ipython3",
   "version": "3.7.3"
  }
 },
 "nbformat": 4,
 "nbformat_minor": 1
}
