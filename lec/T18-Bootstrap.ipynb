{
 "cells": [
  {
   "cell_type": "code",
   "execution_count": null,
   "metadata": {},
   "outputs": [],
   "source": [
    "from datascience import *\n",
    "%matplotlib inline\n",
    "import matplotlib.pyplot as plots\n",
    "plots.style.use('fivethirtyeight')\n",
    "import numpy as np"
   ]
  },
  {
   "cell_type": "markdown",
   "metadata": {},
   "source": [
    "## Recap: Sampling distribution of the median, if we have the whole population"
   ]
  },
  {
   "cell_type": "markdown",
   "metadata": {},
   "source": [
    "**Please run all cells before this cell, including the import cell at the top of the notebook.**"
   ]
  },
  {
   "cell_type": "code",
   "execution_count": null,
   "metadata": {},
   "outputs": [],
   "source": [
    "sf_pop = Table.read_table('san_francisco_2015.csv').where('Total Compensation', are.above(10000))\n",
    "sf_pop = sf_pop.drop('Organization Group Code').drop('Organization Group').drop('Department Code').drop('Department')\n",
    "sf_pop = sf_pop.drop('Year Type').drop('Year').drop('Job Family Code').drop('Job Family')\n",
    "sf_pop.show(3)"
   ]
  },
  {
   "cell_type": "code",
   "execution_count": null,
   "metadata": {},
   "outputs": [],
   "source": [
    "sf_pop.num_rows"
   ]
  },
  {
   "cell_type": "code",
   "execution_count": null,
   "metadata": {
    "scrolled": false
   },
   "outputs": [],
   "source": [
    "pop_median = percentile(50, sf_pop.column('Total Compensation'))\n",
    "sf_bins = np.arange(0, 700000, 25000)\n",
    "sf_pop.hist('Total Compensation', bins=sf_bins)\n",
    "print(\"Population Median = \", pop_median)\n",
    "plots.title('Population')"
   ]
  },
  {
   "cell_type": "code",
   "execution_count": null,
   "metadata": {
    "scrolled": false
   },
   "outputs": [],
   "source": [
    "### Random sample of size 300\n",
    "\n",
    "our_sample = sf_pop.sample(300, with_replacement = False)\n",
    "our_sample_median = percentile(50, our_sample.column('Total Compensation'))\n",
    "our_sample.hist('Total Compensation', bins=sf_bins)\n",
    "print(\"Population Median = \", pop_median)\n",
    "print(\"Sample Median = \", our_sample_median)\n",
    "plots.title('Original sample');"
   ]
  },
  {
   "cell_type": "markdown",
   "metadata": {},
   "source": [
    "### Sampling distribution of the sample median"
   ]
  },
  {
   "cell_type": "code",
   "execution_count": null,
   "metadata": {
    "scrolled": false
   },
   "outputs": [],
   "source": [
    "def one_sample_median():\n",
    "    single_sample = sf_pop.sample(300, with_replacement = False)\n",
    "    return percentile(50, single_sample.column('Total Compensation'))\n",
    "\n",
    "medians = make_array()\n",
    "for i in np.arange(1000):\n",
    "    new_median = one_sample_median()\n",
    "    medians = np.append(medians, new_median)"
   ]
  },
  {
   "cell_type": "code",
   "execution_count": null,
   "metadata": {},
   "outputs": [],
   "source": [
    "med_bins = np.arange(90000, 125001, 2500)\n",
    "Table().with_column('Sample Medians', medians).hist('Sample Medians', bins=med_bins)\n",
    "plots.scatter(pop_median, 0, color=\"red\");"
   ]
  },
  {
   "cell_type": "markdown",
   "metadata": {},
   "source": [
    "# Bootstrap: Sampling distribution of the median, if we only have a sample"
   ]
  },
  {
   "cell_type": "markdown",
   "metadata": {},
   "source": [
    "**Please run all cells before this cell, including the import cell at the top of the notebook.**"
   ]
  },
  {
   "cell_type": "code",
   "execution_count": null,
   "metadata": {},
   "outputs": [],
   "source": [
    "### Take a bootstrap (re)sample of size 300, WITH replacement\n",
    "\n",
    "boot_sample = our_sample.sample(300, with_replacement = True)\n",
    "boot_sample.hist('Total Compensation', bins=sf_bins)\n",
    "print(\"Population Median = \", pop_median)\n",
    "print(\"Our Sample Median = \", our_sample_median)\n",
    "print(\"Bootstrap Sample Median = \", percentile(50,boot_sample.column('Total Compensation')))\n",
    "plots.title('Bootstrap sample')"
   ]
  },
  {
   "cell_type": "code",
   "execution_count": null,
   "metadata": {},
   "outputs": [],
   "source": [
    "### Simulate the distribution of the bootstrap sample median\n",
    "### bootstrap sample : sample :: sample : population\n",
    "\n",
    "### NOTE: this whole simulation only uses our_sample! We never need to look at sf_pop\n",
    "\n",
    "def one_bootstrap_median():\n",
    "    single_sample = our_sample.sample(300, with_replacement = True)\n",
    "    return percentile(50, single_sample.column('Total Compensation'))\n",
    "\n",
    "bootstrap_medians = make_array()\n",
    "for i in np.arange(1000):\n",
    "    new_median = one_bootstrap_median()\n",
    "    bootstrap_medians = np.append(bootstrap_medians, new_median)"
   ]
  },
  {
   "cell_type": "code",
   "execution_count": null,
   "metadata": {
    "scrolled": true
   },
   "outputs": [],
   "source": [
    "Table().with_column('Bootstrap Medians', bootstrap_medians).hist('Bootstrap Medians', bins=med_bins)\n",
    "plots.scatter(pop_median, 0, color=\"red\");\n",
    "plots.scatter(our_sample_median, 0, color=\"blue\");"
   ]
  },
  {
   "cell_type": "code",
   "execution_count": null,
   "metadata": {},
   "outputs": [],
   "source": []
  }
 ],
 "metadata": {
  "anaconda-cloud": {},
  "kernelspec": {
   "display_name": "Python 3",
   "language": "python",
   "name": "python3"
  },
  "language_info": {
   "codemirror_mode": {
    "name": "ipython",
    "version": 3
   },
   "file_extension": ".py",
   "mimetype": "text/x-python",
   "name": "python",
   "nbconvert_exporter": "python",
   "pygments_lexer": "ipython3",
   "version": "3.7.3"
  }
 },
 "nbformat": 4,
 "nbformat_minor": 1
}
